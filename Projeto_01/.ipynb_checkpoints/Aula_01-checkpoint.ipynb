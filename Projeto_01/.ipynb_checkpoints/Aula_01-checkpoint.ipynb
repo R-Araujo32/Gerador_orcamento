{
 "cells": [
  {
   "cell_type": "markdown",
   "id": "a62e1ad9",
   "metadata": {},
   "source": [
    "# Aula 01 projeto Orçamento\n",
    "\n",
    "## Sistema de Orçamento\n"
   ]
  },
  {
   "cell_type": "code",
   "execution_count": 1,
   "id": "7553f322",
   "metadata": {},
   "outputs": [
    {
     "name": "stdout",
     "output_type": "stream",
     "text": [
      "Digite a descrição do projeto: projeto\n",
      "Digite a quantidade de horas previstas: 10\n",
      "Digite o valor da hora trabalhada: 6\n",
      "Digite o prazo: 40\n"
     ]
    },
    {
     "data": {
      "text/plain": [
       "'40'"
      ]
     },
     "execution_count": 1,
     "metadata": {},
     "output_type": "execute_result"
    }
   ],
   "source": [
    "# Entrada de dados do usuario\n",
    "\n",
    "input(\"Digite a descrição do projeto: \")\n",
    "input(\"Digite a quantidade de horas previstas: \")\n",
    "input(\"Digite o valor da hora trabalhada: \")\n",
    "input(\"Digite o prazo: \")"
   ]
  },
  {
   "cell_type": "code",
   "execution_count": 6,
   "id": "14d5568b",
   "metadata": {},
   "outputs": [
    {
     "name": "stdout",
     "output_type": "stream",
     "text": [
      "Digite a descrição do projeto: Criando modelo de orçamento\n",
      "Digite a quantidade de horas previstas: 100\n",
      "Digite o valor da hora trabalhada: 50\n",
      "Digite o prazo: 1 mes\n"
     ]
    }
   ],
   "source": [
    "p = input(\"Digite a descrição do projeto: \") \n",
    "hp = input(\"Digite a quantidade de horas previstas: \")\n",
    "ht = input(\"Digite o valor da hora trabalhada: \")\n",
    "pz = input(\"Digite o prazo: \")"
   ]
  },
  {
   "cell_type": "code",
   "execution_count": 7,
   "id": "7cdc1cdf",
   "metadata": {},
   "outputs": [
    {
     "data": {
      "text/plain": [
       "str"
      ]
     },
     "execution_count": 7,
     "metadata": {},
     "output_type": "execute_result"
    }
   ],
   "source": [
    "type(ht)"
   ]
  },
  {
   "cell_type": "code",
   "execution_count": 8,
   "id": "1d9b7d5e",
   "metadata": {},
   "outputs": [],
   "source": [
    "valor_total = int(hp) * int(ht)"
   ]
  },
  {
   "cell_type": "code",
   "execution_count": 9,
   "id": "14edb216",
   "metadata": {},
   "outputs": [
    {
     "name": "stdout",
     "output_type": "stream",
     "text": [
      "Collecting fpdf\n",
      "  Downloading fpdf-1.7.2.tar.gz (39 kB)\n",
      "  Preparing metadata (setup.py) ... \u001b[?25ldone\n",
      "\u001b[?25hBuilding wheels for collected packages: fpdf\n",
      "  Building wheel for fpdf (setup.py) ... \u001b[?25ldone\n",
      "\u001b[?25h  Created wheel for fpdf: filename=fpdf-1.7.2-py2.py3-none-any.whl size=40702 sha256=6615da16ecf4c98373ac075bb528add4a16a850504405a2965301cadb536cfae\n",
      "  Stored in directory: /Users/rafa/Library/Caches/pip/wheels/65/4f/66/bbda9866da446a72e206d6484cd97381cbc7859a7068541c36\n",
      "Successfully built fpdf\n",
      "Installing collected packages: fpdf\n",
      "Successfully installed fpdf-1.7.2\n"
     ]
    }
   ],
   "source": [
    "!pip install fpdf"
   ]
  },
  {
   "cell_type": "code",
   "execution_count": 10,
   "id": "9c3d18c1",
   "metadata": {},
   "outputs": [],
   "source": [
    "from fpdf import FPDF"
   ]
  },
  {
   "cell_type": "code",
   "execution_count": 12,
   "id": "69dd7ddd",
   "metadata": {},
   "outputs": [
    {
     "ename": "TypeError",
     "evalue": "FPDF.image() missing 1 required positional argument: 'name'",
     "output_type": "error",
     "traceback": [
      "\u001b[0;31m---------------------------------------------------------------------------\u001b[0m",
      "\u001b[0;31mTypeError\u001b[0m                                 Traceback (most recent call last)",
      "Cell \u001b[0;32mIn[12], line 5\u001b[0m\n\u001b[1;32m      3\u001b[0m pdf\u001b[38;5;241m.\u001b[39madd_page()\n\u001b[1;32m      4\u001b[0m pdf\u001b[38;5;241m.\u001b[39mset_font(\u001b[38;5;124m\"\u001b[39m\u001b[38;5;124mArial\u001b[39m\u001b[38;5;124m\"\u001b[39m)\n\u001b[0;32m----> 5\u001b[0m pdf\u001b[38;5;241m.\u001b[39mimage()\n\u001b[1;32m      7\u001b[0m pdf\u001b[38;5;241m.\u001b[39mtext(\u001b[38;5;241m100\u001b[39m,\u001b[38;5;241m100\u001b[39m, p)\n\u001b[1;32m      8\u001b[0m pdf\u001b[38;5;241m.\u001b[39mtext(\u001b[38;5;241m100\u001b[39m,\u001b[38;5;241m115\u001b[39m, hp)\n",
      "File \u001b[0;32m~/miniforge3/envs/myenv1/lib/python3.11/site-packages/fpdf/fpdf.py:150\u001b[0m, in \u001b[0;36mFPDF.check_page.<locals>.wrapper\u001b[0;34m(self, *args, **kwargs)\u001b[0m\n\u001b[1;32m    148\u001b[0m     \u001b[38;5;28mself\u001b[39m\u001b[38;5;241m.\u001b[39merror(\u001b[38;5;124m\"\u001b[39m\u001b[38;5;124mNo page open, you need to call add_page() first\u001b[39m\u001b[38;5;124m\"\u001b[39m)\n\u001b[1;32m    149\u001b[0m \u001b[38;5;28;01melse\u001b[39;00m:\n\u001b[0;32m--> 150\u001b[0m     \u001b[38;5;28;01mreturn\u001b[39;00m fn(\u001b[38;5;28mself\u001b[39m, \u001b[38;5;241m*\u001b[39margs, \u001b[38;5;241m*\u001b[39m\u001b[38;5;241m*\u001b[39mkwargs)\n",
      "\u001b[0;31mTypeError\u001b[0m: FPDF.image() missing 1 required positional argument: 'name'"
     ]
    }
   ],
   "source": [
    "pdf = FPDF()\n",
    "\n",
    "pdf.add_page()\n",
    "pdf.set_font(\"Arial\")\n",
    "pdf.image()\n",
    "\n",
    "pdf.text(100,145, p)\n",
    "pdf.text(100,160, hp)\n",
    "pdf.text(100,175, ht)\n",
    "pdf.text(100,190, pz)\n",
    "pdf.text(100,205, str(valor_total))\n",
    "\n",
    "pdf.output(\"Projeto_Orcamento.pdf\")\n",
    "print(\" Orcamento gerado com sucesso!! \")"
   ]
  },
  {
   "cell_type": "code",
   "execution_count": null,
   "id": "c7c883be",
   "metadata": {},
   "outputs": [],
   "source": []
  }
 ],
 "metadata": {
  "kernelspec": {
   "display_name": "Python 3 (ipykernel)",
   "language": "python",
   "name": "python3"
  },
  "language_info": {
   "codemirror_mode": {
    "name": "ipython",
    "version": 3
   },
   "file_extension": ".py",
   "mimetype": "text/x-python",
   "name": "python",
   "nbconvert_exporter": "python",
   "pygments_lexer": "ipython3",
   "version": "3.11.4"
  }
 },
 "nbformat": 4,
 "nbformat_minor": 5
}
