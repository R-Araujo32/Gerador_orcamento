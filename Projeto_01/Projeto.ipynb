{
 "cells": [
  {
   "cell_type": "markdown",
   "id": "a62e1ad9",
   "metadata": {},
   "source": [
    "# Projeto Orçamento\n",
    "\n",
    "## Sistema de Orçamento\n"
   ]
  },
  {
   "cell_type": "code",
   "execution_count": 1,
   "id": "7553f322",
   "metadata": {},
   "outputs": [
    {
     "name": "stdout",
     "output_type": "stream",
     "text": [
      "Digite a descrição do projeto: 1\n",
      "Digite a quantidade de horas previstas: 1\n",
      "Digite o valor da hora trabalhada: 1\n",
      "Digite o prazo: 1\n"
     ]
    },
    {
     "data": {
      "text/plain": [
       "'1'"
      ]
     },
     "execution_count": 1,
     "metadata": {},
     "output_type": "execute_result"
    }
   ],
   "source": [
    "# Entrada de dados do usuario\n",
    "\n",
    "input(\"Digite a descrição do projeto: \")\n",
    "input(\"Digite a quantidade de horas previstas: \")\n",
    "input(\"Digite o valor da hora trabalhada: \")\n",
    "input(\"Digite o prazo: \")"
   ]
  },
  {
   "cell_type": "code",
   "execution_count": 2,
   "id": "14d5568b",
   "metadata": {},
   "outputs": [
    {
     "name": "stdout",
     "output_type": "stream",
     "text": [
      "Digite a descrição do projeto: Projeto de Orcamento\n",
      "Digite a quantidade de horas previstas: 200\n",
      "Digite o valor da hora trabalhada: 50\n",
      "Digite o prazo: 1 mes\n"
     ]
    }
   ],
   "source": [
    "p = input(\"Digite a descrição do projeto: \") \n",
    "hp = input(\"Digite a quantidade de horas previstas: \")\n",
    "ht = input(\"Digite o valor da hora trabalhada: \")\n",
    "pz = input(\"Digite o prazo: \")"
   ]
  },
  {
   "cell_type": "code",
   "execution_count": 4,
   "id": "1d9b7d5e",
   "metadata": {},
   "outputs": [],
   "source": [
    "valor_total = int(hp) * int(ht)"
   ]
  },
  {
   "cell_type": "code",
   "execution_count": 9,
   "id": "14edb216",
   "metadata": {},
   "outputs": [
    {
     "name": "stdout",
     "output_type": "stream",
     "text": [
      "Collecting fpdf\n",
      "  Downloading fpdf-1.7.2.tar.gz (39 kB)\n",
      "  Preparing metadata (setup.py) ... \u001b[?25ldone\n",
      "\u001b[?25hBuilding wheels for collected packages: fpdf\n",
      "  Building wheel for fpdf (setup.py) ... \u001b[?25ldone\n",
      "\u001b[?25h  Created wheel for fpdf: filename=fpdf-1.7.2-py2.py3-none-any.whl size=40702 sha256=6615da16ecf4c98373ac075bb528add4a16a850504405a2965301cadb536cfae\n",
      "  Stored in directory: /Users/rafa/Library/Caches/pip/wheels/65/4f/66/bbda9866da446a72e206d6484cd97381cbc7859a7068541c36\n",
      "Successfully built fpdf\n",
      "Installing collected packages: fpdf\n",
      "Successfully installed fpdf-1.7.2\n"
     ]
    }
   ],
   "source": [
    "!pip install fpdf"
   ]
  },
  {
   "cell_type": "code",
   "execution_count": 5,
   "id": "9c3d18c1",
   "metadata": {},
   "outputs": [],
   "source": [
    "from fpdf import FPDF"
   ]
  },
  {
   "cell_type": "code",
   "execution_count": 9,
   "id": "69dd7ddd",
   "metadata": {},
   "outputs": [
    {
     "name": "stdout",
     "output_type": "stream",
     "text": [
      " Orcamento gerado com sucesso!! \n"
     ]
    }
   ],
   "source": [
    "pdf = FPDF()\n",
    "\n",
    "pdf.add_page()\n",
    "pdf.set_font(\"Arial\")\n",
    "pdf.image(\"template.png\", x=0, y=0)\n",
    "\n",
    "pdf.text(120,145, p)\n",
    "pdf.text(120,160, hp)\n",
    "pdf.text(120,175, ht)\n",
    "pdf.text(120,190, pz)\n",
    "pdf.text(120,205, str(valor_total))\n",
    "\n",
    "pdf.output(\"Projeto_Orcamento.pdf\")\n",
    "print(\" Orcamento gerado com sucesso!! \")"
   ]
  },
  {
   "cell_type": "code",
   "execution_count": null,
   "id": "c7c883be",
   "metadata": {},
   "outputs": [],
   "source": []
  }
 ],
 "metadata": {
  "kernelspec": {
   "display_name": "Python 3 (ipykernel)",
   "language": "python",
   "name": "python3"
  },
  "language_info": {
   "codemirror_mode": {
    "name": "ipython",
    "version": 3
   },
   "file_extension": ".py",
   "mimetype": "text/x-python",
   "name": "python",
   "nbconvert_exporter": "python",
   "pygments_lexer": "ipython3",
   "version": "3.11.4"
  }
 },
 "nbformat": 4,
 "nbformat_minor": 5
}
